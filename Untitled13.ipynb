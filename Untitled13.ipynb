{
  "nbformat": 4,
  "nbformat_minor": 0,
  "metadata": {
    "colab": {
      "provenance": [],
      "include_colab_link": true
    },
    "kernelspec": {
      "name": "python3",
      "display_name": "Python 3"
    },
    "language_info": {
      "name": "python"
    }
  },
  "cells": [
    {
      "cell_type": "markdown",
      "metadata": {
        "id": "view-in-github",
        "colab_type": "text"
      },
      "source": [
        "<a href=\"https://colab.research.google.com/github/hanouar/adsgley/blob/main/Untitled13.ipynb\" target=\"_parent\"><img src=\"https://colab.research.google.com/assets/colab-badge.svg\" alt=\"Open In Colab\"/></a>"
      ]
    },
    {
      "cell_type": "code",
      "source": [
        "import yfinance as yf\n",
        "import pandas as pd\n",
        "import numpy as np\n",
        "import tensorflow as tf\n",
        "import joblib\n",
        "from tensorflow.keras.models import Sequential\n",
        "from tensorflow.keras.layers import LSTM, Dense, Dropout\n",
        "from sklearn.model_selection import train_test_split\n",
        "from sklearn.preprocessing import MinMaxScaler\n",
        "from xgboost import XGBClassifier\n",
        "\n",
        "# Download Gold Prices\n",
        "gold_data = yf.download(\"GC=F\", start=\"2010-01-01\", end=\"2025-02-09\", interval=\"1d\")\n",
        "gold_data.dropna(inplace=True)\n",
        "\n",
        "# Define target variable (1 if price increases next day, else 0)\n",
        "gold_data['Target'] = (gold_data['Close'].shift(-1) > gold_data['Close']).astype(int)\n",
        "gold_data.dropna(inplace=True)\n",
        "\n",
        "# Prepare dataset\n",
        "features = gold_data[['Open', 'High', 'Low', 'Close', 'Volume']]\n",
        "target = gold_data['Target']\n",
        "\n",
        "# Train-test split\n",
        "X_train, X_test, y_train, y_test = train_test_split(features, target, test_size=0.2, random_state=42)\n",
        "\n",
        "# Normalize data\n",
        "scaler = MinMaxScaler()\n",
        "X_train = scaler.fit_transform(X_train)\n",
        "X_test = scaler.transform(X_test)\n",
        "\n",
        "# Reshape for LSTM\n",
        "X_train_lstm = X_train.reshape((X_train.shape[0], 1, X_train.shape[1]))\n",
        "X_test_lstm = X_test.reshape((X_test.shape[0], 1, X_test.shape[1]))\n",
        "\n",
        "# Build LSTM Model\n",
        "lstm_model = Sequential([\n",
        "    LSTM(100, return_sequences=True, input_shape=(1, X_train.shape[1])),\n",
        "    Dropout(0.3),\n",
        "    LSTM(100, return_sequences=False),\n",
        "    Dropout(0.3),\n",
        "    Dense(50, activation='relu'),\n",
        "    Dense(1, activation='sigmoid')\n",
        "])\n",
        "\n",
        "lstm_model.compile(loss='binary_crossentropy', optimizer='adam', metrics=['accuracy'])\n",
        "\n",
        "# Train LSTM\n",
        "lstm_model.fit(X_train_lstm, y_train, epochs=50, batch_size=32, validation_data=(X_test_lstm, y_test), verbose=1)\n",
        "\n",
        "# Extract LSTM Features\n",
        "lstm_features_train = lstm_model.predict(X_train_lstm)\n",
        "lstm_features_test = lstm_model.predict(X_test_lstm)\n",
        "\n",
        "# Combine LSTM features with original dataset for XGBoost\n",
        "X_train_hybrid = np.hstack((X_train, lstm_features_train))\n",
        "X_test_hybrid = np.hstack((X_test, lstm_features_test))\n",
        "\n",
        "# Train XGBoost\n",
        "xgb_model = XGBClassifier(n_estimators=200, learning_rate=0.05)\n",
        "xgb_model.fit(X_train_hybrid, y_train)\n",
        "\n",
        "# Save models\n",
        "lstm_model.save(\"lstm_gold_model.h5\")\n",
        "joblib.dump(xgb_model, \"xgb_gold_model.pkl\")\n",
        "joblib.dump(scaler, \"scaler.pkl\")\n",
        "\n",
        "print(\"Models saved: lstm_gold_model.h5, xgb_gold_model.pkl, scaler.pkl\")\n"
      ],
      "metadata": {
        "colab": {
          "base_uri": "https://localhost:8080/"
        },
        "id": "zhp6oHOSTo-5",
        "outputId": "ea70ad26-5a68-4e1f-9d1c-a4d992a1ea64"
      },
      "execution_count": 5,
      "outputs": [
        {
          "output_type": "stream",
          "name": "stderr",
          "text": [
            "\r[*********************100%***********************]  1 of 1 completed\n",
            "/usr/local/lib/python3.11/dist-packages/keras/src/layers/rnn/rnn.py:200: UserWarning: Do not pass an `input_shape`/`input_dim` argument to a layer. When using Sequential models, prefer using an `Input(shape)` object as the first layer in the model instead.\n",
            "  super().__init__(**kwargs)\n"
          ]
        },
        {
          "output_type": "stream",
          "name": "stdout",
          "text": [
            "Epoch 1/50\n",
            "\u001b[1m95/95\u001b[0m \u001b[32m━━━━━━━━━━━━━━━━━━━━\u001b[0m\u001b[37m\u001b[0m \u001b[1m11s\u001b[0m 15ms/step - accuracy: 0.5201 - loss: 0.6927 - val_accuracy: 0.5303 - val_loss: 0.6912\n",
            "Epoch 2/50\n",
            "\u001b[1m95/95\u001b[0m \u001b[32m━━━━━━━━━━━━━━━━━━━━\u001b[0m\u001b[37m\u001b[0m \u001b[1m2s\u001b[0m 11ms/step - accuracy: 0.5292 - loss: 0.6917 - val_accuracy: 0.5303 - val_loss: 0.6916\n",
            "Epoch 3/50\n",
            "\u001b[1m95/95\u001b[0m \u001b[32m━━━━━━━━━━━━━━━━━━━━\u001b[0m\u001b[37m\u001b[0m \u001b[1m1s\u001b[0m 9ms/step - accuracy: 0.5107 - loss: 0.6925 - val_accuracy: 0.5303 - val_loss: 0.6912\n",
            "Epoch 4/50\n",
            "\u001b[1m95/95\u001b[0m \u001b[32m━━━━━━━━━━━━━━━━━━━━\u001b[0m\u001b[37m\u001b[0m \u001b[1m1s\u001b[0m 7ms/step - accuracy: 0.5301 - loss: 0.6917 - val_accuracy: 0.5303 - val_loss: 0.6912\n",
            "Epoch 5/50\n",
            "\u001b[1m95/95\u001b[0m \u001b[32m━━━━━━━━━━━━━━━━━━━━\u001b[0m\u001b[37m\u001b[0m \u001b[1m1s\u001b[0m 7ms/step - accuracy: 0.5381 - loss: 0.6909 - val_accuracy: 0.5303 - val_loss: 0.6914\n",
            "Epoch 6/50\n",
            "\u001b[1m95/95\u001b[0m \u001b[32m━━━━━━━━━━━━━━━━━━━━\u001b[0m\u001b[37m\u001b[0m \u001b[1m1s\u001b[0m 7ms/step - accuracy: 0.5257 - loss: 0.6921 - val_accuracy: 0.5303 - val_loss: 0.6913\n",
            "Epoch 7/50\n",
            "\u001b[1m95/95\u001b[0m \u001b[32m━━━━━━━━━━━━━━━━━━━━\u001b[0m\u001b[37m\u001b[0m \u001b[1m1s\u001b[0m 7ms/step - accuracy: 0.5195 - loss: 0.6920 - val_accuracy: 0.5303 - val_loss: 0.6912\n",
            "Epoch 8/50\n",
            "\u001b[1m95/95\u001b[0m \u001b[32m━━━━━━━━━━━━━━━━━━━━\u001b[0m\u001b[37m\u001b[0m \u001b[1m1s\u001b[0m 7ms/step - accuracy: 0.5258 - loss: 0.6921 - val_accuracy: 0.5303 - val_loss: 0.6911\n",
            "Epoch 9/50\n",
            "\u001b[1m95/95\u001b[0m \u001b[32m━━━━━━━━━━━━━━━━━━━━\u001b[0m\u001b[37m\u001b[0m \u001b[1m1s\u001b[0m 7ms/step - accuracy: 0.5335 - loss: 0.6911 - val_accuracy: 0.5263 - val_loss: 0.6917\n",
            "Epoch 10/50\n",
            "\u001b[1m95/95\u001b[0m \u001b[32m━━━━━━━━━━━━━━━━━━━━\u001b[0m\u001b[37m\u001b[0m \u001b[1m1s\u001b[0m 6ms/step - accuracy: 0.4965 - loss: 0.6932 - val_accuracy: 0.5303 - val_loss: 0.6911\n",
            "Epoch 11/50\n",
            "\u001b[1m95/95\u001b[0m \u001b[32m━━━━━━━━━━━━━━━━━━━━\u001b[0m\u001b[37m\u001b[0m \u001b[1m1s\u001b[0m 6ms/step - accuracy: 0.4893 - loss: 0.6954 - val_accuracy: 0.5303 - val_loss: 0.6911\n",
            "Epoch 12/50\n",
            "\u001b[1m95/95\u001b[0m \u001b[32m━━━━━━━━━━━━━━━━━━━━\u001b[0m\u001b[37m\u001b[0m \u001b[1m2s\u001b[0m 9ms/step - accuracy: 0.5273 - loss: 0.6920 - val_accuracy: 0.5303 - val_loss: 0.6916\n",
            "Epoch 13/50\n",
            "\u001b[1m95/95\u001b[0m \u001b[32m━━━━━━━━━━━━━━━━━━━━\u001b[0m\u001b[37m\u001b[0m \u001b[1m1s\u001b[0m 7ms/step - accuracy: 0.5242 - loss: 0.6923 - val_accuracy: 0.5303 - val_loss: 0.6913\n",
            "Epoch 14/50\n",
            "\u001b[1m95/95\u001b[0m \u001b[32m━━━━━━━━━━━━━━━━━━━━\u001b[0m\u001b[37m\u001b[0m \u001b[1m1s\u001b[0m 10ms/step - accuracy: 0.5105 - loss: 0.6924 - val_accuracy: 0.5303 - val_loss: 0.6911\n",
            "Epoch 15/50\n",
            "\u001b[1m95/95\u001b[0m \u001b[32m━━━━━━━━━━━━━━━━━━━━\u001b[0m\u001b[37m\u001b[0m \u001b[1m1s\u001b[0m 11ms/step - accuracy: 0.5147 - loss: 0.6931 - val_accuracy: 0.5303 - val_loss: 0.6911\n",
            "Epoch 16/50\n",
            "\u001b[1m95/95\u001b[0m \u001b[32m━━━━━━━━━━━━━━━━━━━━\u001b[0m\u001b[37m\u001b[0m \u001b[1m1s\u001b[0m 10ms/step - accuracy: 0.5394 - loss: 0.6908 - val_accuracy: 0.5303 - val_loss: 0.6912\n",
            "Epoch 17/50\n",
            "\u001b[1m95/95\u001b[0m \u001b[32m━━━━━━━━━━━━━━━━━━━━\u001b[0m\u001b[37m\u001b[0m \u001b[1m1s\u001b[0m 6ms/step - accuracy: 0.5133 - loss: 0.6928 - val_accuracy: 0.5303 - val_loss: 0.6911\n",
            "Epoch 18/50\n",
            "\u001b[1m95/95\u001b[0m \u001b[32m━━━━━━━━━━━━━━━━━━━━\u001b[0m\u001b[37m\u001b[0m \u001b[1m1s\u001b[0m 7ms/step - accuracy: 0.5179 - loss: 0.6915 - val_accuracy: 0.5303 - val_loss: 0.6912\n",
            "Epoch 19/50\n",
            "\u001b[1m95/95\u001b[0m \u001b[32m━━━━━━━━━━━━━━━━━━━━\u001b[0m\u001b[37m\u001b[0m \u001b[1m1s\u001b[0m 7ms/step - accuracy: 0.5115 - loss: 0.6928 - val_accuracy: 0.5303 - val_loss: 0.6911\n",
            "Epoch 20/50\n",
            "\u001b[1m95/95\u001b[0m \u001b[32m━━━━━━━━━━━━━━━━━━━━\u001b[0m\u001b[37m\u001b[0m \u001b[1m1s\u001b[0m 7ms/step - accuracy: 0.5232 - loss: 0.6922 - val_accuracy: 0.5303 - val_loss: 0.6913\n",
            "Epoch 21/50\n",
            "\u001b[1m95/95\u001b[0m \u001b[32m━━━━━━━━━━━━━━━━━━━━\u001b[0m\u001b[37m\u001b[0m \u001b[1m1s\u001b[0m 8ms/step - accuracy: 0.5212 - loss: 0.6922 - val_accuracy: 0.5303 - val_loss: 0.6911\n",
            "Epoch 22/50\n",
            "\u001b[1m95/95\u001b[0m \u001b[32m━━━━━━━━━━━━━━━━━━━━\u001b[0m\u001b[37m\u001b[0m \u001b[1m1s\u001b[0m 6ms/step - accuracy: 0.5226 - loss: 0.6911 - val_accuracy: 0.5303 - val_loss: 0.6912\n",
            "Epoch 23/50\n",
            "\u001b[1m95/95\u001b[0m \u001b[32m━━━━━━━━━━━━━━━━━━━━\u001b[0m\u001b[37m\u001b[0m \u001b[1m1s\u001b[0m 9ms/step - accuracy: 0.5211 - loss: 0.6920 - val_accuracy: 0.5303 - val_loss: 0.6911\n",
            "Epoch 24/50\n",
            "\u001b[1m95/95\u001b[0m \u001b[32m━━━━━━━━━━━━━━━━━━━━\u001b[0m\u001b[37m\u001b[0m \u001b[1m1s\u001b[0m 7ms/step - accuracy: 0.5217 - loss: 0.6922 - val_accuracy: 0.5303 - val_loss: 0.6912\n",
            "Epoch 25/50\n",
            "\u001b[1m95/95\u001b[0m \u001b[32m━━━━━━━━━━━━━━━━━━━━\u001b[0m\u001b[37m\u001b[0m \u001b[1m1s\u001b[0m 7ms/step - accuracy: 0.5232 - loss: 0.6910 - val_accuracy: 0.5303 - val_loss: 0.6912\n",
            "Epoch 26/50\n",
            "\u001b[1m95/95\u001b[0m \u001b[32m━━━━━━━━━━━━━━━━━━━━\u001b[0m\u001b[37m\u001b[0m \u001b[1m2s\u001b[0m 11ms/step - accuracy: 0.5365 - loss: 0.6902 - val_accuracy: 0.5303 - val_loss: 0.6913\n",
            "Epoch 27/50\n",
            "\u001b[1m95/95\u001b[0m \u001b[32m━━━━━━━━━━━━━━━━━━━━\u001b[0m\u001b[37m\u001b[0m \u001b[1m1s\u001b[0m 12ms/step - accuracy: 0.5248 - loss: 0.6915 - val_accuracy: 0.5303 - val_loss: 0.6912\n",
            "Epoch 28/50\n",
            "\u001b[1m95/95\u001b[0m \u001b[32m━━━━━━━━━━━━━━━━━━━━\u001b[0m\u001b[37m\u001b[0m \u001b[1m1s\u001b[0m 11ms/step - accuracy: 0.5230 - loss: 0.6919 - val_accuracy: 0.5303 - val_loss: 0.6912\n",
            "Epoch 29/50\n",
            "\u001b[1m95/95\u001b[0m \u001b[32m━━━━━━━━━━━━━━━━━━━━\u001b[0m\u001b[37m\u001b[0m \u001b[1m1s\u001b[0m 10ms/step - accuracy: 0.5166 - loss: 0.6929 - val_accuracy: 0.5303 - val_loss: 0.6911\n",
            "Epoch 30/50\n",
            "\u001b[1m95/95\u001b[0m \u001b[32m━━━━━━━━━━━━━━━━━━━━\u001b[0m\u001b[37m\u001b[0m \u001b[1m1s\u001b[0m 7ms/step - accuracy: 0.5260 - loss: 0.6916 - val_accuracy: 0.5303 - val_loss: 0.6912\n",
            "Epoch 31/50\n",
            "\u001b[1m95/95\u001b[0m \u001b[32m━━━━━━━━━━━━━━━━━━━━\u001b[0m\u001b[37m\u001b[0m \u001b[1m1s\u001b[0m 7ms/step - accuracy: 0.5233 - loss: 0.6923 - val_accuracy: 0.5303 - val_loss: 0.6912\n",
            "Epoch 32/50\n",
            "\u001b[1m95/95\u001b[0m \u001b[32m━━━━━━━━━━━━━━━━━━━━\u001b[0m\u001b[37m\u001b[0m \u001b[1m1s\u001b[0m 7ms/step - accuracy: 0.5149 - loss: 0.6931 - val_accuracy: 0.5303 - val_loss: 0.6911\n",
            "Epoch 33/50\n",
            "\u001b[1m95/95\u001b[0m \u001b[32m━━━━━━━━━━━━━━━━━━━━\u001b[0m\u001b[37m\u001b[0m \u001b[1m1s\u001b[0m 7ms/step - accuracy: 0.5283 - loss: 0.6915 - val_accuracy: 0.5303 - val_loss: 0.6912\n",
            "Epoch 34/50\n",
            "\u001b[1m95/95\u001b[0m \u001b[32m━━━━━━━━━━━━━━━━━━━━\u001b[0m\u001b[37m\u001b[0m \u001b[1m1s\u001b[0m 7ms/step - accuracy: 0.5315 - loss: 0.6923 - val_accuracy: 0.5303 - val_loss: 0.6912\n",
            "Epoch 35/50\n",
            "\u001b[1m95/95\u001b[0m \u001b[32m━━━━━━━━━━━━━━━━━━━━\u001b[0m\u001b[37m\u001b[0m \u001b[1m1s\u001b[0m 7ms/step - accuracy: 0.5196 - loss: 0.6926 - val_accuracy: 0.5303 - val_loss: 0.6911\n",
            "Epoch 36/50\n",
            "\u001b[1m95/95\u001b[0m \u001b[32m━━━━━━━━━━━━━━━━━━━━\u001b[0m\u001b[37m\u001b[0m \u001b[1m1s\u001b[0m 7ms/step - accuracy: 0.5158 - loss: 0.6929 - val_accuracy: 0.5303 - val_loss: 0.6911\n",
            "Epoch 37/50\n",
            "\u001b[1m95/95\u001b[0m \u001b[32m━━━━━━━━━━━━━━━━━━━━\u001b[0m\u001b[37m\u001b[0m \u001b[1m1s\u001b[0m 6ms/step - accuracy: 0.5033 - loss: 0.6934 - val_accuracy: 0.5303 - val_loss: 0.6911\n",
            "Epoch 38/50\n",
            "\u001b[1m95/95\u001b[0m \u001b[32m━━━━━━━━━━━━━━━━━━━━\u001b[0m\u001b[37m\u001b[0m \u001b[1m1s\u001b[0m 7ms/step - accuracy: 0.5205 - loss: 0.6922 - val_accuracy: 0.5303 - val_loss: 0.6911\n",
            "Epoch 39/50\n",
            "\u001b[1m95/95\u001b[0m \u001b[32m━━━━━━━━━━━━━━━━━━━━\u001b[0m\u001b[37m\u001b[0m \u001b[1m1s\u001b[0m 8ms/step - accuracy: 0.5134 - loss: 0.6931 - val_accuracy: 0.5303 - val_loss: 0.6911\n",
            "Epoch 40/50\n",
            "\u001b[1m95/95\u001b[0m \u001b[32m━━━━━━━━━━━━━━━━━━━━\u001b[0m\u001b[37m\u001b[0m \u001b[1m1s\u001b[0m 10ms/step - accuracy: 0.5139 - loss: 0.6923 - val_accuracy: 0.5303 - val_loss: 0.6911\n",
            "Epoch 41/50\n",
            "\u001b[1m95/95\u001b[0m \u001b[32m━━━━━━━━━━━━━━━━━━━━\u001b[0m\u001b[37m\u001b[0m \u001b[1m1s\u001b[0m 10ms/step - accuracy: 0.5130 - loss: 0.6932 - val_accuracy: 0.5303 - val_loss: 0.6912\n",
            "Epoch 42/50\n",
            "\u001b[1m95/95\u001b[0m \u001b[32m━━━━━━━━━━━━━━━━━━━━\u001b[0m\u001b[37m\u001b[0m \u001b[1m1s\u001b[0m 7ms/step - accuracy: 0.5154 - loss: 0.6924 - val_accuracy: 0.5303 - val_loss: 0.6912\n",
            "Epoch 43/50\n",
            "\u001b[1m95/95\u001b[0m \u001b[32m━━━━━━━━━━━━━━━━━━━━\u001b[0m\u001b[37m\u001b[0m \u001b[1m1s\u001b[0m 7ms/step - accuracy: 0.5142 - loss: 0.6923 - val_accuracy: 0.5303 - val_loss: 0.6911\n",
            "Epoch 44/50\n",
            "\u001b[1m95/95\u001b[0m \u001b[32m━━━━━━━━━━━━━━━━━━━━\u001b[0m\u001b[37m\u001b[0m \u001b[1m1s\u001b[0m 7ms/step - accuracy: 0.5145 - loss: 0.6920 - val_accuracy: 0.5303 - val_loss: 0.6912\n",
            "Epoch 45/50\n",
            "\u001b[1m95/95\u001b[0m \u001b[32m━━━━━━━━━━━━━━━━━━━━\u001b[0m\u001b[37m\u001b[0m \u001b[1m1s\u001b[0m 8ms/step - accuracy: 0.5432 - loss: 0.6895 - val_accuracy: 0.5303 - val_loss: 0.6913\n",
            "Epoch 46/50\n",
            "\u001b[1m95/95\u001b[0m \u001b[32m━━━━━━━━━━━━━━━━━━━━\u001b[0m\u001b[37m\u001b[0m \u001b[1m1s\u001b[0m 7ms/step - accuracy: 0.5217 - loss: 0.6918 - val_accuracy: 0.5303 - val_loss: 0.6914\n",
            "Epoch 47/50\n",
            "\u001b[1m95/95\u001b[0m \u001b[32m━━━━━━━━━━━━━━━━━━━━\u001b[0m\u001b[37m\u001b[0m \u001b[1m1s\u001b[0m 7ms/step - accuracy: 0.5387 - loss: 0.6906 - val_accuracy: 0.5303 - val_loss: 0.6912\n",
            "Epoch 48/50\n",
            "\u001b[1m95/95\u001b[0m \u001b[32m━━━━━━━━━━━━━━━━━━━━\u001b[0m\u001b[37m\u001b[0m \u001b[1m1s\u001b[0m 7ms/step - accuracy: 0.5212 - loss: 0.6923 - val_accuracy: 0.5303 - val_loss: 0.6911\n",
            "Epoch 49/50\n",
            "\u001b[1m95/95\u001b[0m \u001b[32m━━━━━━━━━━━━━━━━━━━━\u001b[0m\u001b[37m\u001b[0m \u001b[1m1s\u001b[0m 8ms/step - accuracy: 0.5053 - loss: 0.6932 - val_accuracy: 0.5303 - val_loss: 0.6911\n",
            "Epoch 50/50\n",
            "\u001b[1m95/95\u001b[0m \u001b[32m━━━━━━━━━━━━━━━━━━━━\u001b[0m\u001b[37m\u001b[0m \u001b[1m1s\u001b[0m 9ms/step - accuracy: 0.5233 - loss: 0.6916 - val_accuracy: 0.5303 - val_loss: 0.6912\n",
            "\u001b[1m95/95\u001b[0m \u001b[32m━━━━━━━━━━━━━━━━━━━━\u001b[0m\u001b[37m\u001b[0m \u001b[1m1s\u001b[0m 8ms/step\n",
            "\u001b[1m24/24\u001b[0m \u001b[32m━━━━━━━━━━━━━━━━━━━━\u001b[0m\u001b[37m\u001b[0m \u001b[1m0s\u001b[0m 4ms/step\n"
          ]
        },
        {
          "output_type": "stream",
          "name": "stderr",
          "text": [
            "WARNING:absl:You are saving your model as an HDF5 file via `model.save()` or `keras.saving.save_model(model)`. This file format is considered legacy. We recommend using instead the native Keras format, e.g. `model.save('my_model.keras')` or `keras.saving.save_model(model, 'my_model.keras')`. \n"
          ]
        },
        {
          "output_type": "stream",
          "name": "stdout",
          "text": [
            "Models saved: lstm_gold_model.h5, xgb_gold_model.pkl, scaler.pkl\n"
          ]
        }
      ]
    },
    {
      "cell_type": "code",
      "source": [
        "pip install yfinance tensorflow scikit-learn numpy joblib xgboost pandas\n"
      ],
      "metadata": {
        "colab": {
          "base_uri": "https://localhost:8080/"
        },
        "id": "mM3i3-bQU62h",
        "outputId": "ce218b3c-7be3-4de0-9809-3d682d49c2b9"
      },
      "execution_count": 6,
      "outputs": [
        {
          "output_type": "stream",
          "name": "stdout",
          "text": [
            "Requirement already satisfied: yfinance in /usr/local/lib/python3.11/dist-packages (0.2.52)\n",
            "Requirement already satisfied: tensorflow in /usr/local/lib/python3.11/dist-packages (2.18.0)\n",
            "Requirement already satisfied: scikit-learn in /usr/local/lib/python3.11/dist-packages (1.6.1)\n",
            "Requirement already satisfied: numpy in /usr/local/lib/python3.11/dist-packages (1.26.4)\n",
            "Requirement already satisfied: joblib in /usr/local/lib/python3.11/dist-packages (1.4.2)\n",
            "Requirement already satisfied: xgboost in /usr/local/lib/python3.11/dist-packages (2.1.3)\n",
            "Requirement already satisfied: pandas in /usr/local/lib/python3.11/dist-packages (2.2.2)\n",
            "Requirement already satisfied: requests>=2.31 in /usr/local/lib/python3.11/dist-packages (from yfinance) (2.32.3)\n",
            "Requirement already satisfied: multitasking>=0.0.7 in /usr/local/lib/python3.11/dist-packages (from yfinance) (0.0.11)\n",
            "Requirement already satisfied: lxml>=4.9.1 in /usr/local/lib/python3.11/dist-packages (from yfinance) (5.3.0)\n",
            "Requirement already satisfied: platformdirs>=2.0.0 in /usr/local/lib/python3.11/dist-packages (from yfinance) (4.3.6)\n",
            "Requirement already satisfied: pytz>=2022.5 in /usr/local/lib/python3.11/dist-packages (from yfinance) (2025.1)\n",
            "Requirement already satisfied: frozendict>=2.3.4 in /usr/local/lib/python3.11/dist-packages (from yfinance) (2.4.6)\n",
            "Requirement already satisfied: peewee>=3.16.2 in /usr/local/lib/python3.11/dist-packages (from yfinance) (3.17.9)\n",
            "Requirement already satisfied: beautifulsoup4>=4.11.1 in /usr/local/lib/python3.11/dist-packages (from yfinance) (4.13.3)\n",
            "Requirement already satisfied: html5lib>=1.1 in /usr/local/lib/python3.11/dist-packages (from yfinance) (1.1)\n",
            "Requirement already satisfied: absl-py>=1.0.0 in /usr/local/lib/python3.11/dist-packages (from tensorflow) (1.4.0)\n",
            "Requirement already satisfied: astunparse>=1.6.0 in /usr/local/lib/python3.11/dist-packages (from tensorflow) (1.6.3)\n",
            "Requirement already satisfied: flatbuffers>=24.3.25 in /usr/local/lib/python3.11/dist-packages (from tensorflow) (25.1.24)\n",
            "Requirement already satisfied: gast!=0.5.0,!=0.5.1,!=0.5.2,>=0.2.1 in /usr/local/lib/python3.11/dist-packages (from tensorflow) (0.6.0)\n",
            "Requirement already satisfied: google-pasta>=0.1.1 in /usr/local/lib/python3.11/dist-packages (from tensorflow) (0.2.0)\n",
            "Requirement already satisfied: libclang>=13.0.0 in /usr/local/lib/python3.11/dist-packages (from tensorflow) (18.1.1)\n",
            "Requirement already satisfied: opt-einsum>=2.3.2 in /usr/local/lib/python3.11/dist-packages (from tensorflow) (3.4.0)\n",
            "Requirement already satisfied: packaging in /usr/local/lib/python3.11/dist-packages (from tensorflow) (24.2)\n",
            "Requirement already satisfied: protobuf!=4.21.0,!=4.21.1,!=4.21.2,!=4.21.3,!=4.21.4,!=4.21.5,<6.0.0dev,>=3.20.3 in /usr/local/lib/python3.11/dist-packages (from tensorflow) (4.25.6)\n",
            "Requirement already satisfied: setuptools in /usr/local/lib/python3.11/dist-packages (from tensorflow) (75.1.0)\n",
            "Requirement already satisfied: six>=1.12.0 in /usr/local/lib/python3.11/dist-packages (from tensorflow) (1.17.0)\n",
            "Requirement already satisfied: termcolor>=1.1.0 in /usr/local/lib/python3.11/dist-packages (from tensorflow) (2.5.0)\n",
            "Requirement already satisfied: typing-extensions>=3.6.6 in /usr/local/lib/python3.11/dist-packages (from tensorflow) (4.12.2)\n",
            "Requirement already satisfied: wrapt>=1.11.0 in /usr/local/lib/python3.11/dist-packages (from tensorflow) (1.17.2)\n",
            "Requirement already satisfied: grpcio<2.0,>=1.24.3 in /usr/local/lib/python3.11/dist-packages (from tensorflow) (1.70.0)\n",
            "Requirement already satisfied: tensorboard<2.19,>=2.18 in /usr/local/lib/python3.11/dist-packages (from tensorflow) (2.18.0)\n",
            "Requirement already satisfied: keras>=3.5.0 in /usr/local/lib/python3.11/dist-packages (from tensorflow) (3.8.0)\n",
            "Requirement already satisfied: h5py>=3.11.0 in /usr/local/lib/python3.11/dist-packages (from tensorflow) (3.12.1)\n",
            "Requirement already satisfied: ml-dtypes<0.5.0,>=0.4.0 in /usr/local/lib/python3.11/dist-packages (from tensorflow) (0.4.1)\n",
            "Requirement already satisfied: tensorflow-io-gcs-filesystem>=0.23.1 in /usr/local/lib/python3.11/dist-packages (from tensorflow) (0.37.1)\n",
            "Requirement already satisfied: scipy>=1.6.0 in /usr/local/lib/python3.11/dist-packages (from scikit-learn) (1.13.1)\n",
            "Requirement already satisfied: threadpoolctl>=3.1.0 in /usr/local/lib/python3.11/dist-packages (from scikit-learn) (3.5.0)\n",
            "Requirement already satisfied: nvidia-nccl-cu12 in /usr/local/lib/python3.11/dist-packages (from xgboost) (2.21.5)\n",
            "Requirement already satisfied: python-dateutil>=2.8.2 in /usr/local/lib/python3.11/dist-packages (from pandas) (2.8.2)\n",
            "Requirement already satisfied: tzdata>=2022.7 in /usr/local/lib/python3.11/dist-packages (from pandas) (2025.1)\n",
            "Requirement already satisfied: wheel<1.0,>=0.23.0 in /usr/local/lib/python3.11/dist-packages (from astunparse>=1.6.0->tensorflow) (0.45.1)\n",
            "Requirement already satisfied: soupsieve>1.2 in /usr/local/lib/python3.11/dist-packages (from beautifulsoup4>=4.11.1->yfinance) (2.6)\n",
            "Requirement already satisfied: webencodings in /usr/local/lib/python3.11/dist-packages (from html5lib>=1.1->yfinance) (0.5.1)\n",
            "Requirement already satisfied: rich in /usr/local/lib/python3.11/dist-packages (from keras>=3.5.0->tensorflow) (13.9.4)\n",
            "Requirement already satisfied: namex in /usr/local/lib/python3.11/dist-packages (from keras>=3.5.0->tensorflow) (0.0.8)\n",
            "Requirement already satisfied: optree in /usr/local/lib/python3.11/dist-packages (from keras>=3.5.0->tensorflow) (0.14.0)\n",
            "Requirement already satisfied: charset-normalizer<4,>=2 in /usr/local/lib/python3.11/dist-packages (from requests>=2.31->yfinance) (3.4.1)\n",
            "Requirement already satisfied: idna<4,>=2.5 in /usr/local/lib/python3.11/dist-packages (from requests>=2.31->yfinance) (3.10)\n",
            "Requirement already satisfied: urllib3<3,>=1.21.1 in /usr/local/lib/python3.11/dist-packages (from requests>=2.31->yfinance) (2.3.0)\n",
            "Requirement already satisfied: certifi>=2017.4.17 in /usr/local/lib/python3.11/dist-packages (from requests>=2.31->yfinance) (2025.1.31)\n",
            "Requirement already satisfied: markdown>=2.6.8 in /usr/local/lib/python3.11/dist-packages (from tensorboard<2.19,>=2.18->tensorflow) (3.7)\n",
            "Requirement already satisfied: tensorboard-data-server<0.8.0,>=0.7.0 in /usr/local/lib/python3.11/dist-packages (from tensorboard<2.19,>=2.18->tensorflow) (0.7.2)\n",
            "Requirement already satisfied: werkzeug>=1.0.1 in /usr/local/lib/python3.11/dist-packages (from tensorboard<2.19,>=2.18->tensorflow) (3.1.3)\n",
            "Requirement already satisfied: MarkupSafe>=2.1.1 in /usr/local/lib/python3.11/dist-packages (from werkzeug>=1.0.1->tensorboard<2.19,>=2.18->tensorflow) (3.0.2)\n",
            "Requirement already satisfied: markdown-it-py>=2.2.0 in /usr/local/lib/python3.11/dist-packages (from rich->keras>=3.5.0->tensorflow) (3.0.0)\n",
            "Requirement already satisfied: pygments<3.0.0,>=2.13.0 in /usr/local/lib/python3.11/dist-packages (from rich->keras>=3.5.0->tensorflow) (2.18.0)\n",
            "Requirement already satisfied: mdurl~=0.1 in /usr/local/lib/python3.11/dist-packages (from markdown-it-py>=2.2.0->rich->keras>=3.5.0->tensorflow) (0.1.2)\n"
          ]
        }
      ]
    },
    {
      "cell_type": "code",
      "source": [
        "import yfinance as yf\n",
        "import joblib\n",
        "import numpy as np\n",
        "import tensorflow as tf\n",
        "\n",
        "# Load models\n",
        "lstm_model = tf.keras.models.load_model(\"lstm_gold_model.h5\")\n",
        "xgb_model = joblib.load(\"xgb_gold_model.pkl\")\n",
        "scaler = joblib.load(\"scaler.pkl\")\n",
        "\n",
        "# Fetch latest Gold data\n",
        "gold_latest = yf.download(\"GC=F\", period=\"5d\", interval=\"1d\")\n",
        "gold_latest = gold_latest.tail(1)\n",
        "\n",
        "# Preprocess data\n",
        "latest_features = gold_latest[['Open', 'High', 'Low', 'Close', 'Volume']].values\n",
        "latest_features = scaler.transform(latest_features)\n",
        "\n",
        "# Reshape for LSTM\n",
        "latest_features_lstm = latest_features.reshape((1, 1, latest_features.shape[1]))\n",
        "\n",
        "# Predict with LSTM\n",
        "lstm_prediction = lstm_model.predict(latest_features_lstm)\n",
        "\n",
        "# Combine LSTM output with original features for XGBoost\n",
        "final_input = np.hstack((latest_features, lstm_prediction.reshape(1, -1)))\n",
        "\n",
        "# Predict with XGBoost\n",
        "xgb_prediction = xgb_model.predict(final_input)\n",
        "\n",
        "# Output prediction\n",
        "prediction_result = \"UP\" if xgb_prediction[0] == 1 else \"DOWN\"\n",
        "print(f\"Predicted Gold Price Movement for Tomorrow: {prediction_result}\")\n"
      ],
      "metadata": {
        "colab": {
          "base_uri": "https://localhost:8080/"
        },
        "id": "wT519ld9VBXJ",
        "outputId": "c55a94b1-cad0-4e1a-f071-c67a86babba8"
      },
      "execution_count": 7,
      "outputs": [
        {
          "output_type": "stream",
          "name": "stderr",
          "text": [
            "WARNING:absl:Compiled the loaded model, but the compiled metrics have yet to be built. `model.compile_metrics` will be empty until you train or evaluate the model.\n",
            "[*********************100%***********************]  1 of 1 completed\n"
          ]
        },
        {
          "output_type": "stream",
          "name": "stdout",
          "text": [
            "\u001b[1m1/1\u001b[0m \u001b[32m━━━━━━━━━━━━━━━━━━━━\u001b[0m\u001b[37m\u001b[0m \u001b[1m1s\u001b[0m 750ms/step\n",
            "Predicted Gold Price Movement for Tomorrow: UP\n"
          ]
        }
      ]
    },
    {
      "cell_type": "code",
      "source": [
        "import yfinance as yf\n",
        "import joblib\n",
        "import numpy as np\n",
        "import tensorflow as tf\n",
        "import matplotlib.pyplot as plt\n",
        "\n",
        "# Load models\n",
        "lstm_model = tf.keras.models.load_model(\"lstm_gold_model.h5\")\n",
        "xgb_model = joblib.load(\"xgb_gold_model.pkl\")\n",
        "scaler = joblib.load(\"scaler.pkl\")\n",
        "\n",
        "# Fetch real-time Gold price\n",
        "gold_latest = yf.download(\"GC=F\", period=\"5d\", interval=\"1d\")\n",
        "gold_latest = gold_latest.tail(1)\n",
        "\n",
        "# Extract current price\n",
        "current_price = gold_latest['Close'].values[0]\n",
        "\n",
        "# Preprocess latest data\n",
        "latest_features = gold_latest[['Open', 'High', 'Low', 'Close', 'Volume']].values\n",
        "latest_features = scaler.transform(latest_features)\n",
        "\n",
        "# Reshape for LSTM\n",
        "latest_features_lstm = latest_features.reshape((1, 1, latest_features.shape[1]))\n",
        "\n",
        "# Predict price movement with LSTM\n",
        "lstm_prediction = lstm_model.predict(latest_features_lstm)\n",
        "\n",
        "# Combine LSTM output with features for XGBoost\n",
        "final_input = np.hstack((latest_features, lstm_prediction.reshape(1, -1)))\n",
        "\n",
        "# Predict movement with XGBoost\n",
        "xgb_prediction = xgb_model.predict(final_input)\n",
        "\n",
        "# Define predicted price based on movement\n",
        "predicted_price_change = lstm_prediction[0][0] * (current_price * 0.02)  # Assuming 2% price fluctuation\n",
        "predicted_price = current_price + (predicted_price_change if xgb_prediction[0] == 1 else -predicted_price_change)\n",
        "\n",
        "# Define breakpoint price\n",
        "breakpoint_price = current_price * 1.01 if xgb_prediction[0] == 1 else current_price * 0.99\n",
        "\n",
        "# Create a visualization\n",
        "plt.figure(figsize=(8, 5))\n",
        "plt.plot([\"Current Price\", \"Breakpoint\", \"Predicted Price\"],\n",
        "         [current_price, breakpoint_price, predicted_price], marker='o', linestyle='dashed', color='b')\n",
        "\n",
        "# Add labels\n",
        "plt.xlabel(\"Price Movement Stages\")\n",
        "plt.ylabel(\"Gold Price (USD)\")\n",
        "plt.title(\"Updated Predicted Gold Price Movement and Breakpoint\")\n",
        "\n",
        "# Annotate points\n",
        "plt.text(0, current_price[0], f\"${current_price[0]:.2f}\", ha='right', fontsize=10)\n",
        "plt.text(1, breakpoint_price[0], f\"${breakpoint_price[0]:.2f}\", ha='center', fontsize=10, color='red')\n",
        "plt.text(2, predicted_price[0], f\"${predicted_price[0]:.2f}\", ha='left', fontsize=10, color='green')\n",
        "# Show the plot\n",
        "plt.grid()\n",
        "plt.show()\n",
        "\n",
        "# Output actual values\n",
        "print(f\"📌 Current Gold Price: ${current_price[0]:.2f}\")\n",
        "print(f\"📊 Predicted Gold Price for Tomorrow: ${predicted_price[0]:.2f}\")\n",
        "print(f\"🔴 Breakpoint Price: ${breakpoint_price[0]:.2f}\")"
      ],
      "metadata": {
        "colab": {
          "base_uri": "https://localhost:8080/",
          "height": 616
        },
        "id": "YXDnrM23Wvw1",
        "outputId": "a4148022-4aa1-4ac1-c776-bd6126fb9387"
      },
      "execution_count": 8,
      "outputs": [
        {
          "output_type": "stream",
          "name": "stderr",
          "text": [
            "WARNING:absl:Compiled the loaded model, but the compiled metrics have yet to be built. `model.compile_metrics` will be empty until you train or evaluate the model.\n",
            "[*********************100%***********************]  1 of 1 completed\n"
          ]
        },
        {
          "output_type": "stream",
          "name": "stdout",
          "text": [
            "\u001b[1m1/1\u001b[0m \u001b[32m━━━━━━━━━━━━━━━━━━━━\u001b[0m\u001b[37m\u001b[0m \u001b[1m1s\u001b[0m 508ms/step\n"
          ]
        },
        {
          "output_type": "display_data",
          "data": {
            "text/plain": [
              "<Figure size 800x500 with 1 Axes>"
            ],
            "image/png": "[encoded data removed]"
          },
          "metadata": {}
        },
        {
          "output_type": "stream",
          "name": "stdout",
          "text": [
            "📌 Current Gold Price: $2932.40\n",
            "📊 Predicted Gold Price for Tomorrow: $2967.15\n",
            "🔴 Breakpoint Price: $2961.72\n"
          ]
        }
      ]
    },
    {
      "cell_type": "code",
      "source": [],
      "metadata": {
        "id": "D7xLWp64VZuc"
      },
      "execution_count": null,
      "outputs": []
    },
    {
      "cell_type": "code",
      "source": [],
      "metadata": {
        "id": "1lI41xFrVaQQ"
      },
      "execution_count": null,
      "outputs": []
    }
  ]
}